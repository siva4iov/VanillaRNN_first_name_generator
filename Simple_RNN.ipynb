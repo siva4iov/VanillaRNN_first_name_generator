{
  "nbformat": 4,
  "nbformat_minor": 0,
  "metadata": {
    "colab": {
      "name": "Simple RNN.ipynb",
      "provenance": [],
      "collapsed_sections": [],
      "authorship_tag": "ABX9TyN+V46UUGWpSkOFjh9/+VfK",
      "include_colab_link": true
    },
    "kernelspec": {
      "name": "python3",
      "display_name": "Python 3"
    },
    "language_info": {
      "name": "python"
    }
  },
  "cells": [
    {
      "cell_type": "markdown",
      "metadata": {
        "id": "view-in-github",
        "colab_type": "text"
      },
      "source": [
        "<a href=\"https://colab.research.google.com/github/siva4iov/VanillaRNN_first_name_generator/blob/main/Simple_RNN.ipynb\" target=\"_parent\"><img src=\"https://colab.research.google.com/assets/colab-badge.svg\" alt=\"Open In Colab\"/></a>"
      ]
    },
    {
      "cell_type": "markdown",
      "source": [
        "# Here is a try to build Vanilla RNN Model"
      ],
      "metadata": {
        "id": "qtLFZOPTNwoO"
      }
    },
    {
      "cell_type": "code",
      "execution_count": 103,
      "metadata": {
        "id": "2CaPHbQgFjl-"
      },
      "outputs": [],
      "source": [
        "import tensorflow as tf"
      ]
    },
    {
      "cell_type": "code",
      "source": [
        "import pandas as pd\n",
        "import matplotlib.pyplot as plt\n",
        "import numpy as np"
      ],
      "metadata": {
        "id": "9nV0RDRQF1cR"
      },
      "execution_count": 104,
      "outputs": []
    },
    {
      "cell_type": "code",
      "source": [
        "df = pd.read_csv(\"https://raw.githubusercontent.com/smashew/NameDatabases/master/NamesDatabases/first%20names/us.txt\", names=[\"Name\"])\n",
        "df.sample(5)"
      ],
      "metadata": {
        "colab": {
          "base_uri": "https://localhost:8080/",
          "height": 206
        },
        "id": "PHm3h0THG4H1",
        "outputId": "0baa79ed-632f-4521-d9bf-8133cb6123f9"
      },
      "execution_count": 105,
      "outputs": [
        {
          "output_type": "execute_result",
          "data": {
            "text/plain": [
              "         Name\n",
              "2888    Lenny\n",
              "354     Asley\n",
              "361     Audra\n",
              "3752  Norbert\n",
              "3784    Olene"
            ],
            "text/html": [
              "\n",
              "  <div id=\"df-83281152-ada2-4632-90d3-8d30083bb028\">\n",
              "    <div class=\"colab-df-container\">\n",
              "      <div>\n",
              "<style scoped>\n",
              "    .dataframe tbody tr th:only-of-type {\n",
              "        vertical-align: middle;\n",
              "    }\n",
              "\n",
              "    .dataframe tbody tr th {\n",
              "        vertical-align: top;\n",
              "    }\n",
              "\n",
              "    .dataframe thead th {\n",
              "        text-align: right;\n",
              "    }\n",
              "</style>\n",
              "<table border=\"1\" class=\"dataframe\">\n",
              "  <thead>\n",
              "    <tr style=\"text-align: right;\">\n",
              "      <th></th>\n",
              "      <th>Name</th>\n",
              "    </tr>\n",
              "  </thead>\n",
              "  <tbody>\n",
              "    <tr>\n",
              "      <th>2888</th>\n",
              "      <td>Lenny</td>\n",
              "    </tr>\n",
              "    <tr>\n",
              "      <th>354</th>\n",
              "      <td>Asley</td>\n",
              "    </tr>\n",
              "    <tr>\n",
              "      <th>361</th>\n",
              "      <td>Audra</td>\n",
              "    </tr>\n",
              "    <tr>\n",
              "      <th>3752</th>\n",
              "      <td>Norbert</td>\n",
              "    </tr>\n",
              "    <tr>\n",
              "      <th>3784</th>\n",
              "      <td>Olene</td>\n",
              "    </tr>\n",
              "  </tbody>\n",
              "</table>\n",
              "</div>\n",
              "      <button class=\"colab-df-convert\" onclick=\"convertToInteractive('df-83281152-ada2-4632-90d3-8d30083bb028')\"\n",
              "              title=\"Convert this dataframe to an interactive table.\"\n",
              "              style=\"display:none;\">\n",
              "        \n",
              "  <svg xmlns=\"http://www.w3.org/2000/svg\" height=\"24px\"viewBox=\"0 0 24 24\"\n",
              "       width=\"24px\">\n",
              "    <path d=\"M0 0h24v24H0V0z\" fill=\"none\"/>\n",
              "    <path d=\"M18.56 5.44l.94 2.06.94-2.06 2.06-.94-2.06-.94-.94-2.06-.94 2.06-2.06.94zm-11 1L8.5 8.5l.94-2.06 2.06-.94-2.06-.94L8.5 2.5l-.94 2.06-2.06.94zm10 10l.94 2.06.94-2.06 2.06-.94-2.06-.94-.94-2.06-.94 2.06-2.06.94z\"/><path d=\"M17.41 7.96l-1.37-1.37c-.4-.4-.92-.59-1.43-.59-.52 0-1.04.2-1.43.59L10.3 9.45l-7.72 7.72c-.78.78-.78 2.05 0 2.83L4 21.41c.39.39.9.59 1.41.59.51 0 1.02-.2 1.41-.59l7.78-7.78 2.81-2.81c.8-.78.8-2.07 0-2.86zM5.41 20L4 18.59l7.72-7.72 1.47 1.35L5.41 20z\"/>\n",
              "  </svg>\n",
              "      </button>\n",
              "      \n",
              "  <style>\n",
              "    .colab-df-container {\n",
              "      display:flex;\n",
              "      flex-wrap:wrap;\n",
              "      gap: 12px;\n",
              "    }\n",
              "\n",
              "    .colab-df-convert {\n",
              "      background-color: #E8F0FE;\n",
              "      border: none;\n",
              "      border-radius: 50%;\n",
              "      cursor: pointer;\n",
              "      display: none;\n",
              "      fill: #1967D2;\n",
              "      height: 32px;\n",
              "      padding: 0 0 0 0;\n",
              "      width: 32px;\n",
              "    }\n",
              "\n",
              "    .colab-df-convert:hover {\n",
              "      background-color: #E2EBFA;\n",
              "      box-shadow: 0px 1px 2px rgba(60, 64, 67, 0.3), 0px 1px 3px 1px rgba(60, 64, 67, 0.15);\n",
              "      fill: #174EA6;\n",
              "    }\n",
              "\n",
              "    [theme=dark] .colab-df-convert {\n",
              "      background-color: #3B4455;\n",
              "      fill: #D2E3FC;\n",
              "    }\n",
              "\n",
              "    [theme=dark] .colab-df-convert:hover {\n",
              "      background-color: #434B5C;\n",
              "      box-shadow: 0px 1px 3px 1px rgba(0, 0, 0, 0.15);\n",
              "      filter: drop-shadow(0px 1px 2px rgba(0, 0, 0, 0.3));\n",
              "      fill: #FFFFFF;\n",
              "    }\n",
              "  </style>\n",
              "\n",
              "      <script>\n",
              "        const buttonEl =\n",
              "          document.querySelector('#df-83281152-ada2-4632-90d3-8d30083bb028 button.colab-df-convert');\n",
              "        buttonEl.style.display =\n",
              "          google.colab.kernel.accessAllowed ? 'block' : 'none';\n",
              "\n",
              "        async function convertToInteractive(key) {\n",
              "          const element = document.querySelector('#df-83281152-ada2-4632-90d3-8d30083bb028');\n",
              "          const dataTable =\n",
              "            await google.colab.kernel.invokeFunction('convertToInteractive',\n",
              "                                                     [key], {});\n",
              "          if (!dataTable) return;\n",
              "\n",
              "          const docLinkHtml = 'Like what you see? Visit the ' +\n",
              "            '<a target=\"_blank\" href=https://colab.research.google.com/notebooks/data_table.ipynb>data table notebook</a>'\n",
              "            + ' to learn more about interactive tables.';\n",
              "          element.innerHTML = '';\n",
              "          dataTable['output_type'] = 'display_data';\n",
              "          await google.colab.output.renderOutput(dataTable, element);\n",
              "          const docLink = document.createElement('div');\n",
              "          docLink.innerHTML = docLinkHtml;\n",
              "          element.appendChild(docLink);\n",
              "        }\n",
              "      </script>\n",
              "    </div>\n",
              "  </div>\n",
              "  "
            ]
          },
          "metadata": {},
          "execution_count": 105
        }
      ]
    },
    {
      "cell_type": "markdown",
      "source": [
        "We have a daset with ~5k first names and our main idea to build model for generating names"
      ],
      "metadata": {
        "id": "ZABP8hakN36A"
      }
    },
    {
      "cell_type": "code",
      "source": [
        "len(df)"
      ],
      "metadata": {
        "colab": {
          "base_uri": "https://localhost:8080/"
        },
        "id": "-DGnLeWqN_x4",
        "outputId": "ae76da39-75ae-4fc6-c6c5-5b79f9eea52b"
      },
      "execution_count": 106,
      "outputs": [
        {
          "output_type": "execute_result",
          "data": {
            "text/plain": [
              "5163"
            ]
          },
          "metadata": {},
          "execution_count": 106
        }
      ]
    },
    {
      "cell_type": "markdown",
      "source": [
        "Adding `start` tokens"
      ],
      "metadata": {
        "id": "HzPGKGaWUhEE"
      }
    },
    {
      "cell_type": "code",
      "source": [
        "df[\"Name\"] = \" \" + df[\"Name\"]"
      ],
      "metadata": {
        "id": "ca5u3I-wUwV4"
      },
      "execution_count": 107,
      "outputs": []
    },
    {
      "cell_type": "code",
      "source": [
        "df[\"len\"] = df[\"Name\"].str.len()"
      ],
      "metadata": {
        "id": "vzrcmCtxG70q"
      },
      "execution_count": 108,
      "outputs": []
    },
    {
      "cell_type": "markdown",
      "source": [
        "# Distribution of lengths our names"
      ],
      "metadata": {
        "id": "BuHx_ronOT7I"
      }
    },
    {
      "cell_type": "code",
      "source": [
        "df[\"len\"].plot(kind=\"hist\", align=\"left\", xticks=range(3,13), bins=range(3,14),\n",
        "               edgecolor=\"k\", title=\"Sequence len distribution\")"
      ],
      "metadata": {
        "colab": {
          "base_uri": "https://localhost:8080/",
          "height": 298
        },
        "id": "0QK8TxDMI9gs",
        "outputId": "8e974b84-d822-4db4-ab6d-a5c9162907b1"
      },
      "execution_count": 109,
      "outputs": [
        {
          "output_type": "execute_result",
          "data": {
            "text/plain": [
              "<matplotlib.axes._subplots.AxesSubplot at 0x7f8c4cfe4e10>"
            ]
          },
          "metadata": {},
          "execution_count": 109
        },
        {
          "output_type": "display_data",
          "data": {
            "text/plain": [
              "<Figure size 432x288 with 1 Axes>"
            ],
            "image/png": "[encoded data removed]"
          },
          "metadata": {
            "needs_background": "light"
          }
        }
      ]
    },
    {
      "cell_type": "markdown",
      "source": [
        "# Dict of tokens"
      ],
      "metadata": {
        "id": "RdNf65J-NoX3"
      }
    },
    {
      "cell_type": "code",
      "source": [
        "tokens = set(df[\"Name\"].values.sum())\n",
        "tokens = list(tokens)\n",
        "display(f\"number tokens: {len(tokens)}\")"
      ],
      "metadata": {
        "colab": {
          "base_uri": "https://localhost:8080/",
          "height": 35
        },
        "id": "nKkfwdPzO5IW",
        "outputId": "ab2eb3ea-c7c0-49dc-aae5-6d5f817f1e66"
      },
      "execution_count": 110,
      "outputs": [
        {
          "output_type": "display_data",
          "data": {
            "text/plain": [
              "'number tokens: 53'"
            ],
            "application/vnd.google.colaboratory.intrinsic+json": {
              "type": "string"
            }
          },
          "metadata": {}
        }
      ]
    },
    {
      "cell_type": "code",
      "source": [
        "tokens_dict = {token: idx for idx, token in enumerate(tokens)}\n",
        "tokens_dict[\" \"]"
      ],
      "metadata": {
        "colab": {
          "base_uri": "https://localhost:8080/"
        },
        "id": "ofUMi4xZSZZL",
        "outputId": "8b10d742-0de8-4c50-c196-fc710e716668"
      },
      "execution_count": 111,
      "outputs": [
        {
          "output_type": "execute_result",
          "data": {
            "text/plain": [
              "50"
            ]
          },
          "metadata": {},
          "execution_count": 111
        }
      ]
    },
    {
      "cell_type": "markdown",
      "source": [
        "# Helper functions"
      ],
      "metadata": {
        "id": "AeDYqS1BObfz"
      }
    },
    {
      "cell_type": "markdown",
      "source": [
        "Converting batch to matrix"
      ],
      "metadata": {
        "id": "OQ5bV243SifN"
      }
    },
    {
      "cell_type": "code",
      "source": [
        "max_len = df[\"len\"].max()"
      ],
      "metadata": {
        "id": "zZzraGWJwrzH"
      },
      "execution_count": 112,
      "outputs": []
    },
    {
      "cell_type": "code",
      "source": [
        "def to_matrix(names, batch_first=True):\n",
        "  names_ix = np.zeros([len(names), max_len], dtype=np.int32) + tokens_dict[\" \"]\n",
        "  for i in range(len(names)):\n",
        "    line_ix = [tokens_dict[c] for c in names[i]]\n",
        "    names_ix[i, :len(line_ix)] = line_ix\n",
        "  if not batch_first: #if not encoding batch\n",
        "    names = np.transpose(names)\n",
        "  return names_ix.squeeze()"
      ],
      "metadata": {
        "id": "a_B9W8FaWeU4"
      },
      "execution_count": 113,
      "outputs": []
    },
    {
      "cell_type": "code",
      "source": [
        "print(\"\\n\".join(df[\"Name\"].iloc()[451:456].values))\n",
        "to_matrix(df[\"Name\"].iloc()[451:456].values)"
      ],
      "metadata": {
        "colab": {
          "base_uri": "https://localhost:8080/"
        },
        "id": "3P-2baVsYoke",
        "outputId": "696f4ece-24a1-45ac-96a9-0b46b63194ba"
      },
      "execution_count": 114,
      "outputs": [
        {
          "output_type": "stream",
          "name": "stdout",
          "text": [
            " Bernardine\n",
            " Bernardo\n",
            " Berneice\n",
            " Bernetta\n",
            " Bernice\n"
          ]
        },
        {
          "output_type": "execute_result",
          "data": {
            "text/plain": [
              "array([[50, 37, 41, 40, 34, 43, 40, 30,  1, 34, 41, 50],\n",
              "       [50, 37, 41, 40, 34, 43, 40, 30, 48, 50, 50, 50],\n",
              "       [50, 37, 41, 40, 34, 41,  1, 12, 41, 50, 50, 50],\n",
              "       [50, 37, 41, 40, 34, 41,  9,  9, 43, 50, 50, 50],\n",
              "       [50, 37, 41, 40, 34,  1, 12, 41, 50, 50, 50, 50]], dtype=int32)"
            ]
          },
          "metadata": {},
          "execution_count": 114
        }
      ]
    },
    {
      "cell_type": "markdown",
      "source": [
        "Text from sequence of indexes"
      ],
      "metadata": {
        "id": "kmgF8-yMOfKc"
      }
    },
    {
      "cell_type": "code",
      "source": [
        "def text_from_idx(seq):\n",
        "  vals =  [tokens[i] for i in seq]\n",
        "  return [\"\".join(vals)]"
      ],
      "metadata": {
        "id": "jnJXqphwaun5"
      },
      "execution_count": 115,
      "outputs": []
    },
    {
      "cell_type": "code",
      "source": [
        "text_from_idx([5, 5 , 7 , 1 , 29 , 17])"
      ],
      "metadata": {
        "colab": {
          "base_uri": "https://localhost:8080/"
        },
        "id": "A9YR3G9-bF6Z",
        "outputId": "11fdb6ff-1322-4cf3-ade6-ba26cfaef812"
      },
      "execution_count": 116,
      "outputs": [
        {
          "output_type": "execute_result",
          "data": {
            "text/plain": [
              "['mmFiRl']"
            ]
          },
          "metadata": {},
          "execution_count": 116
        }
      ]
    },
    {
      "cell_type": "markdown",
      "source": [
        "Indexes from sequence of symbols"
      ],
      "metadata": {
        "id": "oweXJ3GxOmTX"
      }
    },
    {
      "cell_type": "code",
      "source": [
        "def token_to_idx(token):\n",
        "  return np.expand_dims([tokens_dict[symb] for symb in token], 0)\n"
      ],
      "metadata": {
        "id": "dqkqYjFvtPwq"
      },
      "execution_count": 117,
      "outputs": []
    },
    {
      "cell_type": "code",
      "source": [
        "token_to_idx(\"Car\")"
      ],
      "metadata": {
        "colab": {
          "base_uri": "https://localhost:8080/"
        },
        "id": "2Y2m6qkLtqf5",
        "outputId": "07443b86-bde0-4cbf-e164-f32510a245b5"
      },
      "execution_count": 118,
      "outputs": [
        {
          "output_type": "execute_result",
          "data": {
            "text/plain": [
              "array([[47, 43, 40]])"
            ]
          },
          "metadata": {},
          "execution_count": 118
        }
      ]
    },
    {
      "cell_type": "markdown",
      "source": [
        "# Converting dataframe to tf dataset"
      ],
      "metadata": {
        "id": "LcjE5MkT1g2N"
      }
    },
    {
      "cell_type": "code",
      "source": [
        "data = to_matrix(df[\"Name\"])"
      ],
      "metadata": {
        "id": "lYj-3g6YCnDq"
      },
      "execution_count": 119,
      "outputs": []
    },
    {
      "cell_type": "code",
      "source": [
        "def split_to_target(sequence):\n",
        "  train = sequence[:-1]\n",
        "  target = sequence[1:]\n",
        "  return train, target\n",
        "split_to_target(list(\"nikita\"))"
      ],
      "metadata": {
        "colab": {
          "base_uri": "https://localhost:8080/"
        },
        "id": "rph_GWsHPtkj",
        "outputId": "821d30f0-1f5a-4730-d6ce-bf0622949239"
      },
      "execution_count": 120,
      "outputs": [
        {
          "output_type": "execute_result",
          "data": {
            "text/plain": [
              "(['n', 'i', 'k', 'i', 't'], ['i', 'k', 'i', 't', 'a'])"
            ]
          },
          "metadata": {},
          "execution_count": 120
        }
      ]
    },
    {
      "cell_type": "code",
      "source": [
        "\n",
        "dataset = tf.data.Dataset.from_tensor_slices(data)\n",
        "dataset = dataset.map(split_to_target)\n",
        "for i, k in dataset.take(2):\n",
        "  print(f\"input: {i}\\ntarget: {k}\")"
      ],
      "metadata": {
        "colab": {
          "base_uri": "https://localhost:8080/"
        },
        "id": "vW-efPo8QabY",
        "outputId": "dab95b7f-6e9f-4990-e956-12e66189e8fd"
      },
      "execution_count": 121,
      "outputs": [
        {
          "output_type": "stream",
          "name": "stdout",
          "text": [
            "input: [50 39 43 40 48 34 50 50 50 50 50]\n",
            "target: [39 43 40 48 34 50 50 50 50 50 50]\n",
            "input: [50 39 13 13 41 23 50 50 50 50 50]\n",
            "target: [39 13 13 41 23 50 50 50 50 50 50]\n"
          ]
        }
      ]
    },
    {
      "cell_type": "code",
      "source": [
        "BATCH_SIZE = 64\n",
        "BUFFER_SIZE = 1000\n",
        "dataset = (dataset\n",
        "           .shuffle(BUFFER_SIZE)\n",
        "           .batch(BATCH_SIZE, drop_remainder=True)\n",
        "           .prefetch(tf.data.experimental.AUTOTUNE))\n"
      ],
      "metadata": {
        "id": "ki-W7xFQO6TC"
      },
      "execution_count": 122,
      "outputs": []
    },
    {
      "cell_type": "code",
      "source": [
        "dataset"
      ],
      "metadata": {
        "colab": {
          "base_uri": "https://localhost:8080/"
        },
        "id": "lJ2mCr4gSj90",
        "outputId": "0e0dccb1-b800-4d68-9381-a25a8d2230fc"
      },
      "execution_count": 123,
      "outputs": [
        {
          "output_type": "execute_result",
          "data": {
            "text/plain": [
              "<PrefetchDataset element_spec=(TensorSpec(shape=(64, 11), dtype=tf.int32, name=None), TensorSpec(shape=(64, 11), dtype=tf.int32, name=None))>"
            ]
          },
          "metadata": {},
          "execution_count": 123
        }
      ]
    },
    {
      "cell_type": "code",
      "source": [
        "token_num_size = len(tokens_dict)\n",
        "\n",
        "# The embedding dimension\n",
        "embedding_dim = 16\n",
        "\n",
        "# Number of RNN units\n",
        "rnn_units = 64"
      ],
      "metadata": {
        "id": "HBfEAHgwTnqi"
      },
      "execution_count": 124,
      "outputs": []
    },
    {
      "cell_type": "markdown",
      "source": [
        "# Building Model"
      ],
      "metadata": {
        "id": "ogFiwpFQO46D"
      }
    },
    {
      "cell_type": "markdown",
      "source": [
        "We going to build vanilla rnn model like this:"
      ],
      "metadata": {
        "id": "UA6fgVAnPKlu"
      }
    },
    {
      "cell_type": "markdown",
      "source": [
        "![rnn.png](data:image/png;base64,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)"
      ],
      "metadata": {
        "id": "4RA0KxJ4O8jT"
      }
    },
    {
      "cell_type": "code",
      "source": [
        "class MyModel(tf.keras.Model):\n",
        "  def __init__(self, token_num_size, embedding_dim, rnn_units):\n",
        "    super().__init__(self)\n",
        "    self.states = None\n",
        "    self.embedding = tf.keras.layers.Embedding(token_num_size, embedding_dim)\n",
        "    self.rnn = tf.keras.layers.SimpleRNN(rnn_units,\n",
        "                                   return_sequences=True,\n",
        "                                   return_state=True,\n",
        "                                   )\n",
        "    self.dense = tf.keras.layers.Dense(token_num_size)\n",
        "\n",
        "  def call(self, inputs, states=None, return_state=False, training=False):\n",
        "    x = inputs\n",
        "\n",
        "    x = self.embedding(x, training=training)\n",
        "    x, states = self.rnn(x, initial_state=states, training=training)\n",
        "    x = self.dense(x, training=training)\n",
        "\n",
        "    if return_state:\n",
        "      return x, states\n",
        "    else:\n",
        "      return x"
      ],
      "metadata": {
        "id": "JuVupDaFSnYf"
      },
      "execution_count": 125,
      "outputs": []
    },
    {
      "cell_type": "code",
      "source": [
        "model = MyModel(token_num_size, embedding_dim, rnn_units)"
      ],
      "metadata": {
        "id": "z_gvUF57TOfv"
      },
      "execution_count": 126,
      "outputs": []
    },
    {
      "cell_type": "markdown",
      "source": [
        "Trying our model"
      ],
      "metadata": {
        "id": "ul1QL-tiPSW7"
      }
    },
    {
      "cell_type": "code",
      "source": [
        "for inp, targ in dataset.take(1):\n",
        "  example = model(inp)\n",
        "  print(example.shape)"
      ],
      "metadata": {
        "colab": {
          "base_uri": "https://localhost:8080/"
        },
        "id": "fFTZvqM0V9x5",
        "outputId": "6449e3aa-2082-4cb7-e328-f25fbe7d0afa"
      },
      "execution_count": 127,
      "outputs": [
        {
          "output_type": "stream",
          "name": "stdout",
          "text": [
            "(64, 11, 53)\n"
          ]
        }
      ]
    },
    {
      "cell_type": "code",
      "source": [
        "sampled_indices = tf.random.categorical(example[0], num_samples=1)\n",
        "sampled_indices = tf.squeeze(sampled_indices, axis=-1).numpy()"
      ],
      "metadata": {
        "id": "0_Xb6rJ8ZmYh"
      },
      "execution_count": 128,
      "outputs": []
    },
    {
      "cell_type": "code",
      "source": [
        "print(\"Input:\\n\", text_from_idx(inp[0]))\n",
        "print()\n",
        "print(\"Next Char Predictions:\\n\", text_from_idx(sampled_indices))"
      ],
      "metadata": {
        "colab": {
          "base_uri": "https://localhost:8080/"
        },
        "id": "zqs-JMEAb-3G",
        "outputId": "e706c482-ddb2-4515-cb6c-9de11dd7c357"
      },
      "execution_count": 129,
      "outputs": [
        {
          "output_type": "stream",
          "name": "stdout",
          "text": [
            "Input:\n",
            " [' Cami      ']\n",
            "\n",
            "Next Char Predictions:\n",
            " ['ncceVddpIzl']\n"
          ]
        }
      ]
    },
    {
      "cell_type": "markdown",
      "source": [
        "# Training model"
      ],
      "metadata": {
        "id": "7jBcf_1BPZG5"
      }
    },
    {
      "cell_type": "code",
      "source": [
        "model = MyModel(token_num_size, embedding_dim, rnn_units)"
      ],
      "metadata": {
        "id": "uAidTxQPx_Km"
      },
      "execution_count": 130,
      "outputs": []
    },
    {
      "cell_type": "code",
      "source": [
        "loss = tf.losses.SparseCategoricalCrossentropy(from_logits=True)"
      ],
      "metadata": {
        "id": "4M-btUuqcSNM"
      },
      "execution_count": 131,
      "outputs": []
    },
    {
      "cell_type": "code",
      "source": [
        "example_batch_mean_loss = loss(targ, example)\n",
        "print(\"Prediction shape: \", example.shape, \" # (batch_size, sequence_length, vocab_size)\")\n",
        "print(\"Mean loss:        \", example_batch_mean_loss)"
      ],
      "metadata": {
        "colab": {
          "base_uri": "https://localhost:8080/"
        },
        "id": "SkcMEabGch2x",
        "outputId": "754b634e-dcf1-4f52-a7cb-5c7bc814003c"
      },
      "execution_count": 132,
      "outputs": [
        {
          "output_type": "stream",
          "name": "stdout",
          "text": [
            "Prediction shape:  (64, 11, 53)  # (batch_size, sequence_length, vocab_size)\n",
            "Mean loss:         tf.Tensor(3.9454865, shape=(), dtype=float32)\n"
          ]
        }
      ]
    },
    {
      "cell_type": "code",
      "source": [
        "model.compile(loss=loss, optimizer=tf.keras.optimizers.Adam(learning_rate=0.003))"
      ],
      "metadata": {
        "id": "vbCTFyLwc-Mc"
      },
      "execution_count": 133,
      "outputs": []
    },
    {
      "cell_type": "code",
      "source": [
        "EPOCHS=60"
      ],
      "metadata": {
        "id": "0Sn3kjARdNt8"
      },
      "execution_count": 134,
      "outputs": []
    },
    {
      "cell_type": "code",
      "source": [
        "history = model.fit(dataset, epochs=EPOCHS)"
      ],
      "metadata": {
        "colab": {
          "base_uri": "https://localhost:8080/"
        },
        "id": "ejtlt2GbdS4L",
        "outputId": "df4acf9f-e890-4388-a2cd-17f1eaf8a2c7"
      },
      "execution_count": 135,
      "outputs": [
        {
          "output_type": "stream",
          "name": "stdout",
          "text": [
            "Epoch 1/60\n",
            "80/80 [==============================] - 2s 10ms/step - loss: 2.0555\n",
            "Epoch 2/60\n",
            "80/80 [==============================] - 1s 8ms/step - loss: 1.6543\n",
            "Epoch 3/60\n",
            "80/80 [==============================] - 1s 15ms/step - loss: 1.5385\n",
            "Epoch 4/60\n",
            "80/80 [==============================] - 1s 15ms/step - loss: 1.4749\n",
            "Epoch 5/60\n",
            "80/80 [==============================] - 2s 17ms/step - loss: 1.4358\n",
            "Epoch 6/60\n",
            "80/80 [==============================] - 1s 17ms/step - loss: 1.4094\n",
            "Epoch 7/60\n",
            "80/80 [==============================] - 2s 19ms/step - loss: 1.3867\n",
            "Epoch 8/60\n",
            "80/80 [==============================] - 1s 16ms/step - loss: 1.3743\n",
            "Epoch 9/60\n",
            "80/80 [==============================] - 1s 16ms/step - loss: 1.3550\n",
            "Epoch 10/60\n",
            "80/80 [==============================] - 1s 16ms/step - loss: 1.3519\n",
            "Epoch 11/60\n",
            "80/80 [==============================] - 1s 15ms/step - loss: 1.3310\n",
            "Epoch 12/60\n",
            "80/80 [==============================] - 1s 10ms/step - loss: 1.3276\n",
            "Epoch 13/60\n",
            "80/80 [==============================] - 1s 10ms/step - loss: 1.3113\n",
            "Epoch 14/60\n",
            "80/80 [==============================] - 1s 9ms/step - loss: 1.3130\n",
            "Epoch 15/60\n",
            "80/80 [==============================] - 1s 9ms/step - loss: 1.2976\n",
            "Epoch 16/60\n",
            "80/80 [==============================] - 1s 9ms/step - loss: 1.2964\n",
            "Epoch 17/60\n",
            "80/80 [==============================] - 1s 10ms/step - loss: 1.2843\n",
            "Epoch 18/60\n",
            "80/80 [==============================] - 1s 10ms/step - loss: 1.2832\n",
            "Epoch 19/60\n",
            "80/80 [==============================] - 1s 9ms/step - loss: 1.2737\n",
            "Epoch 20/60\n",
            "80/80 [==============================] - 1s 10ms/step - loss: 1.2695\n",
            "Epoch 21/60\n",
            "80/80 [==============================] - 1s 10ms/step - loss: 1.2628\n",
            "Epoch 22/60\n",
            "80/80 [==============================] - 1s 10ms/step - loss: 1.2597\n",
            "Epoch 23/60\n",
            "80/80 [==============================] - 1s 10ms/step - loss: 1.2581\n",
            "Epoch 24/60\n",
            "80/80 [==============================] - 1s 10ms/step - loss: 1.2453\n",
            "Epoch 25/60\n",
            "80/80 [==============================] - 1s 8ms/step - loss: 1.2450\n",
            "Epoch 26/60\n",
            "80/80 [==============================] - 1s 9ms/step - loss: 1.2445\n",
            "Epoch 27/60\n",
            "80/80 [==============================] - 1s 10ms/step - loss: 1.2376\n",
            "Epoch 28/60\n",
            "80/80 [==============================] - 1s 9ms/step - loss: 1.2322\n",
            "Epoch 29/60\n",
            "80/80 [==============================] - 1s 8ms/step - loss: 1.2303\n",
            "Epoch 30/60\n",
            "80/80 [==============================] - 1s 8ms/step - loss: 1.2245\n",
            "Epoch 31/60\n",
            "80/80 [==============================] - 1s 8ms/step - loss: 1.2219\n",
            "Epoch 32/60\n",
            "80/80 [==============================] - 1s 8ms/step - loss: 1.2170\n",
            "Epoch 33/60\n",
            "80/80 [==============================] - 1s 9ms/step - loss: 1.2154\n",
            "Epoch 34/60\n",
            "80/80 [==============================] - 1s 8ms/step - loss: 1.2104\n",
            "Epoch 35/60\n",
            "80/80 [==============================] - 1s 8ms/step - loss: 1.2069\n",
            "Epoch 36/60\n",
            "80/80 [==============================] - 1s 9ms/step - loss: 1.2069\n",
            "Epoch 37/60\n",
            "80/80 [==============================] - 1s 8ms/step - loss: 1.2014\n",
            "Epoch 38/60\n",
            "80/80 [==============================] - 1s 9ms/step - loss: 1.1971\n",
            "Epoch 39/60\n",
            "80/80 [==============================] - 1s 8ms/step - loss: 1.2011\n",
            "Epoch 40/60\n",
            "80/80 [==============================] - 1s 8ms/step - loss: 1.1904\n",
            "Epoch 41/60\n",
            "80/80 [==============================] - 1s 8ms/step - loss: 1.1975\n",
            "Epoch 42/60\n",
            "80/80 [==============================] - 1s 8ms/step - loss: 1.1887\n",
            "Epoch 43/60\n",
            "80/80 [==============================] - 1s 8ms/step - loss: 1.1811\n",
            "Epoch 44/60\n",
            "80/80 [==============================] - 1s 8ms/step - loss: 1.1870\n",
            "Epoch 45/60\n",
            "80/80 [==============================] - 1s 8ms/step - loss: 1.1784\n",
            "Epoch 46/60\n",
            "80/80 [==============================] - 1s 8ms/step - loss: 1.1789\n",
            "Epoch 47/60\n",
            "80/80 [==============================] - 1s 8ms/step - loss: 1.1837\n",
            "Epoch 48/60\n",
            "80/80 [==============================] - 1s 8ms/step - loss: 1.1724\n",
            "Epoch 49/60\n",
            "80/80 [==============================] - 1s 9ms/step - loss: 1.1753\n",
            "Epoch 50/60\n",
            "80/80 [==============================] - 1s 8ms/step - loss: 1.1733\n",
            "Epoch 51/60\n",
            "80/80 [==============================] - 1s 8ms/step - loss: 1.1678\n",
            "Epoch 52/60\n",
            "80/80 [==============================] - 1s 8ms/step - loss: 1.1698\n",
            "Epoch 53/60\n",
            "80/80 [==============================] - 1s 9ms/step - loss: 1.1665\n",
            "Epoch 54/60\n",
            "80/80 [==============================] - 1s 8ms/step - loss: 1.1613\n",
            "Epoch 55/60\n",
            "80/80 [==============================] - 1s 8ms/step - loss: 1.1618\n",
            "Epoch 56/60\n",
            "80/80 [==============================] - 1s 9ms/step - loss: 1.1644\n",
            "Epoch 57/60\n",
            "80/80 [==============================] - 1s 8ms/step - loss: 1.1603\n",
            "Epoch 58/60\n",
            "80/80 [==============================] - 1s 9ms/step - loss: 1.1604\n",
            "Epoch 59/60\n",
            "80/80 [==============================] - 1s 8ms/step - loss: 1.1580\n",
            "Epoch 60/60\n",
            "80/80 [==============================] - 1s 8ms/step - loss: 1.1552\n"
          ]
        }
      ]
    },
    {
      "cell_type": "markdown",
      "source": [
        "### Helper generating function"
      ],
      "metadata": {
        "id": "GShPhcpzdWQ5"
      }
    },
    {
      "cell_type": "code",
      "source": [
        "def generate_sample(model, inputs, states=None):\n",
        "  inputs = token_to_idx(inputs)\n",
        "  # print(inputs)\n",
        "  pred_logits, state = model(inputs, states=states, return_state=True)\n",
        "  pred_logits = pred_logits[:, -1, :]\n",
        "  predicted_ids = tf.random.categorical(pred_logits, num_samples=1)\n",
        "  predicted_ids = tf.squeeze(predicted_ids, axis=-1)\n",
        "  predicted_chars = text_from_idx(predicted_ids)\n",
        "  return predicted_chars, states\n"
      ],
      "metadata": {
        "id": "lOWVA9NXef7F"
      },
      "execution_count": 136,
      "outputs": []
    },
    {
      "cell_type": "code",
      "source": [
        "def generate(seed: str=\" \", leng: int=max_len):\n",
        "  next_char = seed\n",
        "  states = None\n",
        "  result = [[next_char]]\n",
        "  for n in range(leng+1-len(next_char)):\n",
        "    # print(f\"{n} step:\")\n",
        "    next_char, states = generate_sample(model, next_char, states=states)\n",
        "    # print(next_char)\n",
        "    result.append(next_char)\n",
        "  result = np.array(result)\n",
        "  print(\"\".join(np.stack(result, 1).squeeze()))"
      ],
      "metadata": {
        "id": "LSHcqi8xeo0t"
      },
      "execution_count": 137,
      "outputs": []
    },
    {
      "cell_type": "markdown",
      "source": [
        "Example of generating"
      ],
      "metadata": {
        "id": "aXpwn0zEPl5c"
      }
    },
    {
      "cell_type": "code",
      "source": [
        "for _ in range(10):\n",
        "  generate(\"Nast\", 8)"
      ],
      "metadata": {
        "colab": {
          "base_uri": "https://localhost:8080/"
        },
        "id": "eaOOLfsfe7PD",
        "outputId": "012cf12c-d2ba-4b38-e6d6-95c17b94f74b"
      },
      "execution_count": 138,
      "outputs": [
        {
          "output_type": "stream",
          "name": "stdout",
          "text": [
            "Nastoloby\n",
            "Nastophan\n",
            "Nastelian\n",
            "Nastoneri\n",
            "Nastonans\n",
            "Nasthanan\n",
            "Nastoniaj\n",
            "Nastceshh\n",
            "Nastolone\n",
            "Nastonani\n"
          ]
        }
      ]
    }
  ]
}